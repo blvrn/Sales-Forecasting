{
 "cells": [
  {
   "cell_type": "markdown",
   "id": "b5189e3e",
   "metadata": {},
   "source": [
    "# Time Series Analysis - Sales Forecasting \n",
    "\n",
    "## Team Members\n",
    "\n",
    "1. Engin Pehlivan  090200769\n",
    "2. Ozan Yeşil      090190325\n",
    "3. Abdulsamet Balveren 090190751\n",
    "\n",
    "## Dataset\n",
    "In this project we will use Kaggle Competition dataset which includes more than one dataset. Data is taken from a market chain in Ecuador.  \n",
    "Project data: [Data](https://www.kaggle.com/competitions/store-sales-time-series-forecasting)  \n",
    "There are 7 different datasets. We will use data below:  \n",
    "- `train` and `test` datasets are csv files that include same content which is the data that sales occured, product family and binary valeu of ongoing promotion. They differ in the date column where there is no interseciton between them.  \n",
    "- `store` dataset includes metadata about stores that make these sales. It includes city, state and type informations.\n",
    "- `oil` dataset includes the daily oil prices which affects the economy of Ecuador.\n",
    "- `holidays-events` give us information about whther that day is a work day or holiday or an event day.\n",
    "\n",
    "\n",
    "**Dataset References**  \n",
    "\n",
    "Store Sales - Time Series Forecasting. Kaggle, accessed 13 November 2022, [Link](https://www.kaggle.com/competitions/store-sales-time-series-forecasting)\n",
    "\n",
    "## Description of the Problem\n",
    "In this project we want to predict amount of sales for the product families sold at **Favorita** stores located in **Ecuador**.\n",
    "\n",
    "At the end of the project we will be answered these questions:  \n",
    "- What will be the amount of sales in the following 15 days for each store and each product family?\n",
    "- What kind of effect does oil prices have on Ecuador?\n",
    "- Is there a noticable change in sales on holidays?\n",
    "- Which products should be promoted more in those special days?\n",
    "- Which stores make more sales in the country?\n",
    "- Comparison of stores in the same city in terms of sales.\n",
    "- Clustring stores based on similarity.\n",
    "\n",
    "For prediction we are planning to use: **Linear Regression, XGBoost, RandomForest**  \n",
    "For clustering we will consider:**k-means, Hierarchical clustering** \n",
    "\n",
    "## Project Planning\n",
    "\n",
    "\n",
    "### Project Pieces\n",
    "\n",
    "**Literature Review:** In order to see other works in Time Series and understand what kind of new perspectives we can bring while learning the math behind it.   \n",
    "**Data Manipulation:** Gathering data from different datasets and splitting it to do visualizations easier. For example, grouping markets and evaluating them seperately.  \n",
    "**Visualization:** Exploratory Data Analysis. Before modelling we will try to understand data better so that we can chose the best models with better accuracy.   \n",
    "**Modelling:** After understanding the topic better and cleaning our data we will create our model for forecasting. After that we will evaluate our model to see if we can improve it by changing the algorithm or feature engineering.  \n",
    "**Analysis:** After all visualizations and modellings, we will cocnlude our models and graphics to answer our questions.\n",
    "\n",
    "### Hardware and Software\n",
    "\n",
    "We will use Python programming language and its libraries and Jupyter Notebook environment. We will be doing this project on our laptops with 8 GB RAM which will be enough.\n",
    "\n",
    "## Who will do what?\n",
    "\n",
    "Ozan Yeşil -> Data Manupilation & Literature review  \n",
    "Engin Pehlivan -> Feature selection & modelling  \n",
    "Abdulsamet Balveren -> Visualization & EDA\n",
    "\n",
    "\n",
    "### Calendar\n",
    "\n",
    "* Literature review: 1 week\n",
    "* Data Cleaning & Exploratory Data Analysis: 2 weeks \n",
    "* Modelling & Evaluation: 2 weeks\n",
    "* Final Analysis & Uploading: 10 days\n",
    "\n",
    "**Literature review will not be done seperately, it will be synchronized with other steps.**"
   ]
  },
  {
   "cell_type": "markdown",
   "id": "9045a332-5234-410e-8822-a582749dcaa5",
   "metadata": {},
   "source": [
    "## Atabey's notes\n",
    "\n",
    "I like the detailed descriptions of the problems you'd like to explore. However, there are some important details missing. For example, you need to provide a sample of the dataset(s) and explain the pieces. This is a fairly large dataset (~130Mb) and you must explain its structure. Also, your description of how you are going to apply the ML algorithms to find answers to your specific questions is not clear. I need more details. I also need how you are going to solve memory problems if the data is too large for your ML models? Moreover, the division of labor is not specific enough. What do you mean by data manipulation? How are you going to select/engineer features? What do you mean by visualization?\n",
    "\n"
   ]
  },
  {
   "cell_type": "code",
   "execution_count": null,
   "id": "265b915b-7642-4073-a7a5-d81e6e17480e",
   "metadata": {},
   "outputs": [],
   "source": []
  }
 ],
 "metadata": {
  "kernelspec": {
   "display_name": "Python 3 (ipykernel)",
   "language": "python",
   "name": "python3"
  },
  "language_info": {
   "codemirror_mode": {
    "name": "ipython",
    "version": 3
   },
   "file_extension": ".py",
   "mimetype": "text/x-python",
   "name": "python",
   "nbconvert_exporter": "python",
   "pygments_lexer": "ipython3",
   "version": "3.10.8"
  }
 },
 "nbformat": 4,
 "nbformat_minor": 5
}
